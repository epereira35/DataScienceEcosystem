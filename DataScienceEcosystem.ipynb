{
 "cells": [
  {
   "cell_type": "markdown",
   "id": "03f50afa-79de-40f5-aea5-e06679c81fe1",
   "metadata": {},
   "source": [
    "# Data Science Tools and EcoSystem"
   ]
  },
  {
   "cell_type": "markdown",
   "id": "b6ae75b4-b520-48f6-8d86-02e1bb138256",
   "metadata": {},
   "source": [
    "In this notebool, we will llok at some tools and ecosystems data scientists use"
   ]
  },
  {
   "cell_type": "markdown",
   "id": "71d90d0b-4ea2-4e61-92b8-1c130f346a8f",
   "metadata": {},
   "source": [
    "*Objectives*\n",
    "- Languages used in data science\n",
    "- Libraries used in data science\n",
    "- Development Environments used by data scientists\n",
    "- Some Arithmetic Expressions using python"
   ]
  },
  {
   "cell_type": "markdown",
   "id": "cb11bf5f-9231-4603-9c37-3e2afb015ed8",
   "metadata": {},
   "source": [
    "Some commonly used data science languages are:\n",
    "1. R\n",
    "2. Julia\n",
    "3. Python\n",
    "4. Scala\n",
    "5. SQL"
   ]
  },
  {
   "cell_type": "markdown",
   "id": "c07d5a03-8314-4e6f-b838-00ee41060b69",
   "metadata": {},
   "source": [
    "Some of the commonly used libraries used by Data Scientists include:\n",
    "1. numpy, pandas, matplotlib, tensorflow, scikit-learn (python)\n",
    "2. ggplot2, dplyr, caret (R)\n",
    "3. Weka, Java-ML (Java)"
   ]
  },
  {
   "cell_type": "markdown",
   "id": "b74b9cbb-3de1-40d9-8e50-8a00282361fa",
   "metadata": {},
   "source": [
    "| Data Science tools |\n",
    "|---------|\n",
    "| JupyterLab |\n",
    "| RStudio |\n",
    "| Spyder |"
   ]
  },
  {
   "cell_type": "markdown",
   "id": "7cb233d5-1661-46b8-8544-413700c8cd3a",
   "metadata": {},
   "source": [
    "### Below are a few examples of evaluating arithmetic expressions in Python."
   ]
  },
  {
   "cell_type": "code",
   "execution_count": 3,
   "id": "fc603fff-697a-46d5-b349-fa7fdb103506",
   "metadata": {},
   "outputs": [
    {
     "data": {
      "text/plain": [
       "17"
      ]
     },
     "execution_count": 3,
     "metadata": {},
     "output_type": "execute_result"
    }
   ],
   "source": [
    "# This a simple arithmetic expression to mutiply then add integers\n",
    "(3*4)+5"
   ]
  },
  {
   "cell_type": "code",
   "execution_count": 7,
   "id": "242e16da-a882-4002-bf14-5fb97fd0e06b",
   "metadata": {},
   "outputs": [
    {
     "name": "stdout",
     "output_type": "stream",
     "text": [
      "3.3333333333333335\n"
     ]
    }
   ],
   "source": [
    "# This will convert 200 minutes to hours by diving by 60\n",
    "mins = 200\n",
    "hours = mins / 60\n",
    "print(hours)"
   ]
  },
  {
   "cell_type": "markdown",
   "id": "66fd68e9-d9cd-4799-ac17-bff8f345c616",
   "metadata": {},
   "source": [
    "## Author\n",
    "Emmanuel P."
   ]
  }
 ],
 "metadata": {
  "kernelspec": {
   "display_name": "Python 3 (ipykernel)",
   "language": "python",
   "name": "python3"
  },
  "language_info": {
   "codemirror_mode": {
    "name": "ipython",
    "version": 3
   },
   "file_extension": ".py",
   "mimetype": "text/x-python",
   "name": "python",
   "nbconvert_exporter": "python",
   "pygments_lexer": "ipython3",
   "version": "3.13.3"
  }
 },
 "nbformat": 4,
 "nbformat_minor": 5
}
